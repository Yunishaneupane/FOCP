{
 "cells": [
  {
   "cell_type": "code",
   "execution_count": 1,
   "id": "a6172b37",
   "metadata": {},
   "outputs": [
    {
     "name": "stdout",
     "output_type": "stream",
     "text": [
      "True\n",
      "False\n",
      "True\n"
     ]
    }
   ],
   "source": [
    "print(10<100)\n",
    "print(100!=100)\n",
    "print(50>=50)"
   ]
  },
  {
   "cell_type": "code",
   "execution_count": 2,
   "id": "90e6a171",
   "metadata": {},
   "outputs": [
    {
     "name": "stdout",
     "output_type": "stream",
     "text": [
      "Enter your age18\n",
      "False\n",
      "False\n",
      "True\n"
     ]
    }
   ],
   "source": [
    "age=int(input(\"Enter your age\"))\n",
    "print(age<18)\n",
    "print(age>21)\n",
    "print(age<=31)"
   ]
  },
  {
   "cell_type": "code",
   "execution_count": 4,
   "id": "aa0032f9",
   "metadata": {},
   "outputs": [
    {
     "name": "stdout",
     "output_type": "stream",
     "text": [
      "True\n",
      "False\n",
      "True\n"
     ]
    }
   ],
   "source": [
    "print(\"a\"<\"b\")\n",
    "print(\"b\"<\"a\")\n",
    "print(\"John\"<\"Terry\")\n"
   ]
  },
  {
   "cell_type": "code",
   "execution_count": 5,
   "id": "d3459671",
   "metadata": {},
   "outputs": [
    {
     "name": "stdout",
     "output_type": "stream",
     "text": [
      "False\n"
     ]
    }
   ],
   "source": [
    "print(\"john\"<\"Terry\")"
   ]
  },
  {
   "cell_type": "code",
   "execution_count": 7,
   "id": "e79cbaee",
   "metadata": {},
   "outputs": [
    {
     "name": "stdout",
     "output_type": "stream",
     "text": [
      "True\n"
     ]
    },
    {
     "ename": "TypeError",
     "evalue": "'<' not supported between instances of 'int' and 'str'",
     "output_type": "error",
     "traceback": [
      "\u001b[1;31m---------------------------------------------------------------------------\u001b[0m",
      "\u001b[1;31mTypeError\u001b[0m                                 Traceback (most recent call last)",
      "\u001b[1;32m~\\AppData\\Local\\Temp/ipykernel_16280/2240330543.py\u001b[0m in \u001b[0;36m<module>\u001b[1;34m\u001b[0m\n\u001b[0;32m      1\u001b[0m \u001b[0mprint\u001b[0m\u001b[1;33m(\u001b[0m\u001b[1;36m5\u001b[0m\u001b[1;33m<\u001b[0m\u001b[1;36m10.2\u001b[0m\u001b[1;33m)\u001b[0m\u001b[1;33m\u001b[0m\u001b[1;33m\u001b[0m\u001b[0m\n\u001b[1;32m----> 2\u001b[1;33m \u001b[0mprint\u001b[0m\u001b[1;33m(\u001b[0m\u001b[1;36m5\u001b[0m\u001b[1;33m<\u001b[0m\u001b[1;34m\"Monty\"\u001b[0m\u001b[1;33m)\u001b[0m\u001b[1;33m\u001b[0m\u001b[1;33m\u001b[0m\u001b[0m\n\u001b[0m\u001b[0;32m      3\u001b[0m \u001b[0mprint\u001b[0m\u001b[1;33m(\u001b[0m\u001b[1;36m5\u001b[0m\u001b[1;33m<\u001b[0m\u001b[1;34m\"5\"\u001b[0m\u001b[1;33m)\u001b[0m\u001b[1;33m\u001b[0m\u001b[1;33m\u001b[0m\u001b[0m\n",
      "\u001b[1;31mTypeError\u001b[0m: '<' not supported between instances of 'int' and 'str'"
     ]
    }
   ],
   "source": [
    "print(5<10.2)\n",
    "print(5<\"Monty\")\n",
    "print(5<\"5\")"
   ]
  },
  {
   "cell_type": "code",
   "execution_count": 8,
   "id": "efb6be4a",
   "metadata": {},
   "outputs": [
    {
     "name": "stdout",
     "output_type": "stream",
     "text": [
      "True\n",
      "False\n",
      "False\n"
     ]
    }
   ],
   "source": [
    "age = 30\n",
    "print(age >=18 and age <=65)\n",
    "print(age<18 or age>65)\n",
    "print(not age>18)"
   ]
  },
  {
   "cell_type": "code",
   "execution_count": 9,
   "id": "ea6815bb",
   "metadata": {},
   "outputs": [
    {
     "name": "stdout",
     "output_type": "stream",
     "text": [
      "True\n"
     ]
    }
   ],
   "source": [
    "age=30\n",
    "print(age>=18 and age<=65) and (not age==30)"
   ]
  },
  {
   "cell_type": "code",
   "execution_count": 11,
   "id": "b30bda80",
   "metadata": {},
   "outputs": [
    {
     "name": "stdout",
     "output_type": "stream",
     "text": [
      "Enter a weight121\n",
      "Enter a height225\n",
      "True\n",
      "False\n"
     ]
    }
   ],
   "source": [
    "weight=int(input(\"Enter a weight\"))\n",
    "height=int(input(\"Enter a height\"))\n",
    "print(100<weight and weight<200)\n",
    "print(height>131 and height<160)"
   ]
  },
  {
   "cell_type": "code",
   "execution_count": 14,
   "id": "bd8b45ca",
   "metadata": {},
   "outputs": [
    {
     "name": "stdout",
     "output_type": "stream",
     "text": [
      "Enter a age18\n",
      "your are Still young!\n"
     ]
    }
   ],
   "source": [
    "age=int(input(\"Enter a age\"))\n",
    "if (age<=18 and age<=30):\n",
    "    print(\"your are Still young!\")\n"
   ]
  },
  {
   "cell_type": "code",
   "execution_count": 13,
   "id": "102dc893",
   "metadata": {},
   "outputs": [
    {
     "name": "stdout",
     "output_type": "stream",
     "text": [
      "Enter a age54\n"
     ]
    }
   ],
   "source": [
    "age=int(input(\"Enter a age\"))\n",
    "if (age>=18 and age<=30):\n",
    "    print(\"your are Still young!\")\n",
    "elif age>30 and age<40:\n",
    "    print(\"You are aged\")"
   ]
  },
  {
   "cell_type": "code",
   "execution_count": 15,
   "id": "873755fe",
   "metadata": {},
   "outputs": [
    {
     "name": "stdout",
     "output_type": "stream",
     "text": [
      "enter a age54\n",
      "your are adult\n"
     ]
    }
   ],
   "source": [
    "age=int(input('enter a age'))\n",
    "print(\"your are adult\"if age>=18 else \"you are not adult,yet!\")"
   ]
  },
  {
   "cell_type": "code",
   "execution_count": 1,
   "id": "0b6f8643",
   "metadata": {},
   "outputs": [
    {
     "name": "stdout",
     "output_type": "stream",
     "text": [
      "Simran\n",
      "Ram\n",
      "Yunisha\n"
     ]
    }
   ],
   "source": [
    "names=[\"Simran\",\"Ram\",\"Yunisha\"]\n",
    "for name in names:\n",
    "    print(name)"
   ]
  },
  {
   "cell_type": "code",
   "execution_count": 3,
   "id": "a25f432d",
   "metadata": {},
   "outputs": [
    {
     "name": "stdout",
     "output_type": "stream",
     "text": [
      "2 to the power of 2 = 4\n",
      "4 to the power of 4 = 256\n",
      "6 to the power of 6 = 46656\n",
      "8 to the power of 8 = 16777216\n",
      "10 to the power of 10 = 10000000000\n"
     ]
    }
   ],
   "source": [
    "lists=[2,4,6,8,10]\n",
    "for i in lists:\n",
    "    print( i,\"to the power of\",i,\"=\",i**i)"
   ]
  },
  {
   "cell_type": "code",
   "execution_count": 4,
   "id": "efc0a656",
   "metadata": {},
   "outputs": [
    {
     "name": "stdout",
     "output_type": "stream",
     "text": [
      "The total is 10\n",
      "The total is 30\n",
      "The total is 60\n",
      "The total is 150\n",
      "The total is 350\n",
      "The total is 380\n",
      "The total is 402\n",
      "The total is 413\n"
     ]
    }
   ],
   "source": [
    "total=0\n",
    "numbers=[10,20,30,90,200,30,22,11]\n",
    "for i in numbers:\n",
    "    total=total+i\n",
    "    print(\"The total is\",total)"
   ]
  },
  {
   "cell_type": "code",
   "execution_count": 5,
   "id": "81193bcf",
   "metadata": {},
   "outputs": [
    {
     "name": "stdout",
     "output_type": "stream",
     "text": [
      "The total is 10\n",
      "The total is 30\n",
      "The total is 60\n",
      "The total is 150\n"
     ]
    }
   ],
   "source": [
    "total=0\n",
    "numbers=[10,20,30,90,200,30,22,11]\n",
    "for i in numbers:\n",
    "    if i>100:\n",
    "        break\n",
    "    total=total+i\n",
    "    print(\"The total is\",total)"
   ]
  },
  {
   "cell_type": "code",
   "execution_count": 6,
   "id": "d14635ff",
   "metadata": {},
   "outputs": [
    {
     "name": "stdout",
     "output_type": "stream",
     "text": [
      "All the number processed\n",
      "The total is 200\n"
     ]
    }
   ],
   "source": [
    "total=0\n",
    "numbers=[10,20,30,90,200,30,22,11]\n",
    "for i in numbers:\n",
    "    if i<=100:\n",
    "        continue\n",
    "    total=total+i\n",
    "print(\"All the number processed\")\n",
    "print(\"The total is\",total)"
   ]
  },
  {
   "cell_type": "code",
   "execution_count": 8,
   "id": "ef53eb15",
   "metadata": {},
   "outputs": [
    {
     "name": "stdout",
     "output_type": "stream",
     "text": [
      "Enter your name: Yunisha\n",
      "Your name is Yunisha\n"
     ]
    }
   ],
   "source": [
    "name = input(\"Enter your name: \")\n",
    "if name==\"Yunisha\":\n",
    "    print(\"Your name is\", name)\n",
    "else:\n",
    "    print(\"Name not entered\")\n"
   ]
  },
  {
   "cell_type": "code",
   "execution_count": 9,
   "id": "3ecb334b",
   "metadata": {},
   "outputs": [
    {
     "name": "stdout",
     "output_type": "stream",
     "text": [
      "average pass mark was 61.0\n"
     ]
    }
   ],
   "source": [
    "grades = [20, 50, 43, 33, 90, 15]\n",
    "pass_mark = 40\n",
    "passes = 0\n",
    "total = 0\n",
    "for grade in grades:\n",
    "    if grade < pass_mark:\n",
    "        continue\n",
    "    passes += 1\n",
    "    total += grade\n",
    "\n",
    "print(\"average pass mark was\", total/passes)\n"
   ]
  },
  {
   "cell_type": "code",
   "execution_count": 10,
   "id": "6a58464f",
   "metadata": {},
   "outputs": [
    {
     "data": {
      "text/plain": [
       "True"
      ]
     },
     "execution_count": 10,
     "metadata": {},
     "output_type": "execute_result"
    }
   ],
   "source": [
    "message=\"My name is yunisha neupane and i am from bhairahawa\"\n",
    "\"2022\" not in message\n",
    "\n",
    "\n"
   ]
  }
 ],
 "metadata": {
  "kernelspec": {
   "display_name": "Python 3 (ipykernel)",
   "language": "python",
   "name": "python3"
  },
  "language_info": {
   "codemirror_mode": {
    "name": "ipython",
    "version": 3
   },
   "file_extension": ".py",
   "mimetype": "text/x-python",
   "name": "python",
   "nbconvert_exporter": "python",
   "pygments_lexer": "ipython3",
   "version": "3.9.7"
  }
 },
 "nbformat": 4,
 "nbformat_minor": 5
}
