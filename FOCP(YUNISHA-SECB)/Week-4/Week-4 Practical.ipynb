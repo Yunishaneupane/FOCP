{
 "cells": [
  {
   "cell_type": "code",
   "execution_count": 1,
   "id": "512156a3",
   "metadata": {},
   "outputs": [
    {
     "name": "stdout",
     "output_type": "stream",
     "text": [
      "The square root of no is 32.0\n"
     ]
    }
   ],
   "source": [
    "import math\n",
    "print(\"The square root of no is\",math.sqrt(1024))"
   ]
  },
  {
   "cell_type": "code",
   "execution_count": 2,
   "id": "dc5afcdd",
   "metadata": {},
   "outputs": [
    {
     "data": {
      "text/plain": [
       "10.0"
      ]
     },
     "execution_count": 2,
     "metadata": {},
     "output_type": "execute_result"
    }
   ],
   "source": [
    "from math import log2\n",
    "log2(1024)"
   ]
  },
  {
   "cell_type": "code",
   "execution_count": 4,
   "id": "d0286d01",
   "metadata": {},
   "outputs": [
    {
     "name": "stdout",
     "output_type": "stream",
     "text": [
      "Yunisha \n",
      "Yunisha \n",
      "2\n",
      "2\n",
      "4\n",
      "4\n",
      "I am fromNepal\n",
      "I am fromNepal\n"
     ]
    }
   ],
   "source": [
    "def displayTwice(msg):\n",
    "    print(msg)\n",
    "    print(msg)\n",
    "displayTwice(\"Yunisha \")\n",
    "displayTwice(2)\n",
    "displayTwice(2+2)\n",
    "displayTwice(\"I am from\"+\"Nepal\")"
   ]
  },
  {
   "cell_type": "code",
   "execution_count": 6,
   "id": "e75d0eb2",
   "metadata": {},
   "outputs": [
    {
     "name": "stdout",
     "output_type": "stream",
     "text": [
      "Yunisha \n",
      "Yunisha \n",
      "2\n",
      "2\n",
      "4\n",
      "4\n",
      "i am fromnepal\n",
      "i am fromnepal\n",
      "Help on function displayTwice in module __main__:\n",
      "\n",
      "displayTwice(msg)\n",
      "    Display the message that user enter as a function argunments\n",
      "\n"
     ]
    }
   ],
   "source": [
    "def displayTwice(msg):\n",
    "    \"\"\"Display the message that user enter as a function argunments\"\"\"\n",
    "    print(msg)\n",
    "    print(msg)\n",
    "displayTwice(\"Yunisha \")\n",
    "displayTwice(2)\n",
    "displayTwice(2+2)\n",
    "displayTwice(\"i am from\"+\"nepal\")\n",
    "help(displayTwice)"
   ]
  },
  {
   "cell_type": "code",
   "execution_count": 8,
   "id": "447f0d89",
   "metadata": {},
   "outputs": [
    {
     "name": "stdout",
     "output_type": "stream",
     "text": [
      "40\n",
      "sam\n",
      "10\n"
     ]
    }
   ],
   "source": [
    "def findMax(a,b):\n",
    "    \"\"\"Finds the maximum of two values.\"\"\"\n",
    "    if ( a > b ):\n",
    "        max = a\n",
    "    else:\n",
    "        max = b\n",
    "    return max\n",
    "print(findMax(20,40))\n",
    "print(findMax(\"joe\",\"sam\"))\n",
    "print(findMax(10,-20))\n"
   ]
  },
  {
   "cell_type": "code",
   "execution_count": 9,
   "id": "a6afa282",
   "metadata": {},
   "outputs": [
    {
     "name": "stdout",
     "output_type": "stream",
     "text": [
      "x is 1 \n",
      "y is 2 \n",
      "z is 3\n",
      "x is 1 \n",
      "y is 2 \n",
      "z is 3\n",
      "x is 1 \n",
      "y is 2 \n",
      "z is 3\n"
     ]
    }
   ],
   "source": [
    "def someFunc(x, y, z):\n",
    "    print(\"x is\", x, \"\\ny is\", y, \"\\nz is\", z)\n",
    "someFunc(1,2,3)\n",
    "someFunc(y=2, z=3, x=1)\n",
    "someFunc(x=1,z=3,y=2)\n",
    "\n"
   ]
  },
  {
   "cell_type": "code",
   "execution_count": 11,
   "id": "885292ac",
   "metadata": {},
   "outputs": [
    {
     "name": "stdout",
     "output_type": "stream",
     "text": [
      "2.5\n",
      "10.666666666666666\n",
      "12.5\n"
     ]
    }
   ],
   "source": [
    "def calcAve(*numbers):\n",
    "    total = 0\n",
    "    for num in numbers:\n",
    "        total += num\n",
    "    return total/len(numbers)\n",
    "print(calcAve(1,2,3,4))\n",
    "print(calcAve(1,3,46,7,7,0))\n",
    "print(calcAve(1,3,46,0))"
   ]
  },
  {
   "cell_type": "code",
   "execution_count": 13,
   "id": "a1bcade5",
   "metadata": {},
   "outputs": [
    {
     "data": {
      "text/plain": [
       "float"
      ]
     },
     "execution_count": 13,
     "metadata": {},
     "output_type": "execute_result"
    }
   ],
   "source": [
    "hypot = lambda a,b : math.sqrt(a * a + b * b)\n",
    "type(hypot(3,4))\n"
   ]
  },
  {
   "cell_type": "code",
   "execution_count": 14,
   "id": "1c964aca",
   "metadata": {},
   "outputs": [
    {
     "name": "stdout",
     "output_type": "stream",
     "text": [
      "120\n",
      "7200\n",
      "5400\n"
     ]
    }
   ],
   "source": [
    "to_seconds = lambda hours,minutes:hours*60*60+minutes*60\n",
    "print(to_seconds(0,2))\n",
    "print(to_seconds(2,0))\n",
    "print(to_seconds(1,30))"
   ]
  },
  {
   "cell_type": "code",
   "execution_count": 16,
   "id": "4daea762",
   "metadata": {},
   "outputs": [
    {
     "name": "stdout",
     "output_type": "stream",
     "text": [
      "3600\n",
      "36000\n",
      "12600\n"
     ]
    }
   ],
   "source": [
    "to_seconds = lambda hours,minutes=0:hours*60*60+minutes*60\n",
    "print(to_seconds(1))\n",
    "print(to_seconds(10))\n",
    "print(to_seconds(3,30))"
   ]
  },
  {
   "cell_type": "code",
   "execution_count": 17,
   "id": "3c7dc548",
   "metadata": {},
   "outputs": [
    {
     "name": "stdout",
     "output_type": "stream",
     "text": [
      "You are lucky man  K ma sani haina rw Yunisha #\n"
     ]
    }
   ],
   "source": [
    "def show_msg(title,body,prefix, sep=\"#\"):\n",
    "    print(body,prefix,title,sep)\n",
    "show_msg(\"Yunisha\",\"You are lucky man \",prefix=\"K ma sani haina rw\")"
   ]
  }
 ],
 "metadata": {
  "kernelspec": {
   "display_name": "Python 3 (ipykernel)",
   "language": "python",
   "name": "python3"
  },
  "language_info": {
   "codemirror_mode": {
    "name": "ipython",
    "version": 3
   },
   "file_extension": ".py",
   "mimetype": "text/x-python",
   "name": "python",
   "nbconvert_exporter": "python",
   "pygments_lexer": "ipython3",
   "version": "3.9.7"
  }
 },
 "nbformat": 4,
 "nbformat_minor": 5
}
