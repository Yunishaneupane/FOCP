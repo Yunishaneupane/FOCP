{
 "cells": [
  {
   "cell_type": "code",
   "execution_count": 1,
   "id": "db99bc56",
   "metadata": {},
   "outputs": [
    {
     "name": "stdout",
     "output_type": "stream",
     "text": [
      "The total is 100\n"
     ]
    }
   ],
   "source": [
    "total = 100\n",
    "print(\"The total is\", total)\n"
   ]
  },
  {
   "cell_type": "code",
   "execution_count": 3,
   "id": "fa952b5b",
   "metadata": {},
   "outputs": [
    {
     "name": "stdout",
     "output_type": "stream",
     "text": [
      "The total is now 298\n"
     ]
    }
   ],
   "source": [
    "total = total + 99\n",
    "print(\"The total is now\", total)\n"
   ]
  },
  {
   "cell_type": "code",
   "execution_count": 4,
   "id": "e5bd4e63",
   "metadata": {},
   "outputs": [
    {
     "name": "stdout",
     "output_type": "stream",
     "text": [
      "The total is 297\n",
      "The total is 1188\n",
      "The total is 594.0\n"
     ]
    }
   ],
   "source": [
    "total = total - 1\n",
    "print(\"The total is\", total)\n",
    "\n",
    "total = total * 4\n",
    "print(\"The total is\", total)\n",
    "\n",
    "total = total / 2\n",
    "print(\"The total is\", total)\n"
   ]
  },
  {
   "cell_type": "code",
   "execution_count": 10,
   "id": "d939660d",
   "metadata": {},
   "outputs": [
    {
     "data": {
      "text/plain": [
       "51.6"
      ]
     },
     "execution_count": 10,
     "metadata": {},
     "output_type": "execute_result"
    }
   ],
   "source": [
    "total = 98.2\n",
    "count = 5\n",
    "average=(total+count)/2\n",
    "average"
   ]
  },
  {
   "cell_type": "code",
   "execution_count": 13,
   "id": "e9ad10de",
   "metadata": {},
   "outputs": [
    {
     "data": {
      "text/plain": [
       "bool"
      ]
     },
     "execution_count": 13,
     "metadata": {},
     "output_type": "execute_result"
    }
   ],
   "source": [
    "type(False)"
   ]
  },
  {
   "cell_type": "code",
   "execution_count": 15,
   "id": "f57e29f5",
   "metadata": {},
   "outputs": [
    {
     "data": {
      "text/plain": [
       "int"
      ]
     },
     "execution_count": 15,
     "metadata": {},
     "output_type": "execute_result"
    }
   ],
   "source": [
    "type(1000)"
   ]
  },
  {
   "cell_type": "code",
   "execution_count": 17,
   "id": "8810ec0c",
   "metadata": {},
   "outputs": [
    {
     "data": {
      "text/plain": [
       "float"
      ]
     },
     "execution_count": 17,
     "metadata": {},
     "output_type": "execute_result"
    }
   ],
   "source": [
    "type(100.111)"
   ]
  },
  {
   "cell_type": "code",
   "execution_count": 19,
   "id": "0433417e",
   "metadata": {},
   "outputs": [
    {
     "data": {
      "text/plain": [
       "str"
      ]
     },
     "execution_count": 19,
     "metadata": {},
     "output_type": "execute_result"
    }
   ],
   "source": [
    "type(\"Heloo\")"
   ]
  },
  {
   "cell_type": "code",
   "execution_count": 21,
   "id": "dbbdc032",
   "metadata": {},
   "outputs": [
    {
     "data": {
      "text/plain": [
       "str"
      ]
     },
     "execution_count": 21,
     "metadata": {},
     "output_type": "execute_result"
    }
   ],
   "source": [
    "type(\"True\")"
   ]
  },
  {
   "cell_type": "code",
   "execution_count": 24,
   "id": "dca96389",
   "metadata": {},
   "outputs": [
    {
     "data": {
      "text/plain": [
       "float"
      ]
     },
     "execution_count": 24,
     "metadata": {},
     "output_type": "execute_result"
    }
   ],
   "source": [
    "type(100/5)"
   ]
  },
  {
   "cell_type": "code",
   "execution_count": 26,
   "id": "71aaaf05",
   "metadata": {},
   "outputs": [
    {
     "data": {
      "text/plain": [
       "int"
      ]
     },
     "execution_count": 26,
     "metadata": {},
     "output_type": "execute_result"
    }
   ],
   "source": [
    "type(100//5)"
   ]
  },
  {
   "cell_type": "code",
   "execution_count": 28,
   "id": "381ca1f9",
   "metadata": {},
   "outputs": [
    {
     "data": {
      "text/plain": [
       "'ABCABCABCABCABCABCABCABCABCABC'"
      ]
     },
     "execution_count": 28,
     "metadata": {},
     "output_type": "execute_result"
    }
   ],
   "source": [
    "\"ABC\"*10"
   ]
  },
  {
   "cell_type": "code",
   "execution_count": 32,
   "id": "21249176",
   "metadata": {},
   "outputs": [
    {
     "name": "stdout",
     "output_type": "stream",
     "text": [
      "Enter a nameYunisha\n",
      "Enter a addressbhairahawa\n",
      "Your name is  Yunisha\n",
      "Your name is bhairahawa\n"
     ]
    },
    {
     "data": {
      "text/plain": [
       "7"
      ]
     },
     "execution_count": 32,
     "metadata": {},
     "output_type": "execute_result"
    }
   ],
   "source": [
    "name=input('Enter a name')\n",
    "address=input(\"Enter a address\")\n",
    "print(\"Your name is \",name)\n",
    "print(\"Your name is\",address)\n",
    "len(name)\n"
   ]
  },
  {
   "cell_type": "code",
   "execution_count": 35,
   "id": "dbb7d4a8",
   "metadata": {},
   "outputs": [
    {
     "name": "stdout",
     "output_type": "stream",
     "text": [
      "Enter your age 20\n"
     ]
    },
    {
     "ename": "TypeError",
     "evalue": "can only concatenate str (not \"int\") to str",
     "output_type": "error",
     "traceback": [
      "\u001b[1;31m---------------------------------------------------------------------------\u001b[0m",
      "\u001b[1;31mTypeError\u001b[0m                                 Traceback (most recent call last)",
      "\u001b[1;32m~\\AppData\\Local\\Temp/ipykernel_9672/429798087.py\u001b[0m in \u001b[0;36m<module>\u001b[1;34m\u001b[0m\n\u001b[0;32m      1\u001b[0m \u001b[0mage\u001b[0m \u001b[1;33m=\u001b[0m \u001b[0minput\u001b[0m\u001b[1;33m(\u001b[0m\u001b[1;34m\"Enter your age \"\u001b[0m\u001b[1;33m)\u001b[0m\u001b[1;33m\u001b[0m\u001b[1;33m\u001b[0m\u001b[0m\n\u001b[1;32m----> 2\u001b[1;33m \u001b[0mprint\u001b[0m\u001b[1;33m(\u001b[0m\u001b[1;34m\"in one year your age will be\"\u001b[0m\u001b[1;33m,\u001b[0m \u001b[0mage\u001b[0m \u001b[1;33m+\u001b[0m \u001b[1;36m1\u001b[0m\u001b[1;33m)\u001b[0m\u001b[1;33m\u001b[0m\u001b[1;33m\u001b[0m\u001b[0m\n\u001b[0m",
      "\u001b[1;31mTypeError\u001b[0m: can only concatenate str (not \"int\") to str"
     ]
    }
   ],
   "source": [
    "age = input(\"Enter your age \")\n",
    "print(\"in one year your age will be\", age + 1)\n"
   ]
  },
  {
   "cell_type": "code",
   "execution_count": 37,
   "id": "2fc7c2a8",
   "metadata": {},
   "outputs": [
    {
     "name": "stdout",
     "output_type": "stream",
     "text": [
      "Enter your age 21\n",
      "in one year your age will be 22\n"
     ]
    }
   ],
   "source": [
    "age = int(input(\"Enter your age \"))\n",
    "print(\"in one year your age will be\", age + 1)"
   ]
  },
  {
   "cell_type": "code",
   "execution_count": 44,
   "id": "357f606b",
   "metadata": {},
   "outputs": [
    {
     "data": {
      "text/plain": [
       "'l'"
      ]
     },
     "execution_count": 44,
     "metadata": {},
     "output_type": "execute_result"
    }
   ],
   "source": [
    "surname = \"Palin\"\n",
    "initial = surname[2]\n",
    "initial"
   ]
  },
  {
   "cell_type": "code",
   "execution_count": 2,
   "id": "5e1c2005",
   "metadata": {},
   "outputs": [
    {
     "name": "stdout",
     "output_type": "stream",
     "text": [
      "Enter a first number10\n",
      "Enter a second number20\n",
      "200\n"
     ]
    }
   ],
   "source": [
    "a=int(input('Enter a first number'))\n",
    "b=int(input('Enter a second number'))\n",
    "print(a*b)\n"
   ]
  },
  {
   "cell_type": "code",
   "execution_count": 3,
   "id": "c274ffc5",
   "metadata": {},
   "outputs": [
    {
     "name": "stdout",
     "output_type": "stream",
     "text": [
      "This text includes character such as '\\''\"' and \"''\",\n",
      "\t This is a new line that starts with a tab \n",
      "\t\tThis is a new starts with two tabs  \n"
     ]
    }
   ],
   "source": [
    "print(\"\"\"This text includes character such as \\'\\\\'\\'\"\\' and \\\"'\\'\\\",\\n\\t This is a new line that starts with a tab \\n\\t\\tThis is a new starts with two tabs  \"\"\")"
   ]
  },
  {
   "cell_type": "code",
   "execution_count": 10,
   "id": "f7891b07",
   "metadata": {},
   "outputs": [
    {
     "name": "stdout",
     "output_type": "stream",
     "text": [
      "\\\\\\\\\\\\\\\\\\\\\\\\\\\\\\\\\\\\\\\\\\\\\\\\\\\\\\\\\\\\\\\\\\\\\\\\\\\\\\\\\\\\\\\\\n",
      " Hello there! \n",
      " \\\\\\\\\\\\\\\\\\\\\\\\\\\\\\\\\\\\\\\\\\\\\\\\\\\\\\\\\\\\\\\\\\\\\\\\\\\\\\\\\\\\\\\\\"\n"
     ]
    }
   ],
   "source": [
    "print(\"\\\\\\\\\\\\\\\\\\\\\\\\\\\\\\\\\\\\\\\\\\\\\\\\\\\\\\\\\\\\\\\\\\\\\\\\\\\\\\\\\\\\\\\\\\\\\\\\\\\\\\\\\\\\\\\\\\\\\\\\\\\\\\\\\\\\\\\\\\\\\\\\\\\\\\\\\\\\\\\\\\\\\\\\\\\\\\\\\\n Hello there! \\n \\\\\\\\\\\\\\\\\\\\\\\\\\\\\\\\\\\\\\\\\\\\\\\\\\\\\\\\\\\\\\\\\\\\\\\\\\\\\\\\\\\\\\\\\\\\\\\\\\\\\\\\\\\\\\\\\\\\\\\\\\\\\\\\\\\\\\\\\\\\\\\\\\\\\\\\\\\\\\\\\\\\\\\\\\\\\\\\\\\"\")"
   ]
  },
  {
   "cell_type": "code",
   "execution_count": 46,
   "id": "affdd6f3",
   "metadata": {},
   "outputs": [
    {
     "data": {
      "text/plain": [
       "'n'"
      ]
     },
     "execution_count": 46,
     "metadata": {},
     "output_type": "execute_result"
    }
   ],
   "source": [
    "surname = \"Palin\"\n",
    "initial = surname[-1]\n",
    "initial"
   ]
  },
  {
   "cell_type": "code",
   "execution_count": 48,
   "id": "2095a472",
   "metadata": {},
   "outputs": [
    {
     "data": {
      "text/plain": [
       "'alin'"
      ]
     },
     "execution_count": 48,
     "metadata": {},
     "output_type": "execute_result"
    }
   ],
   "source": [
    "surname = \"Palin\"\n",
    "initial = surname[1:]\n",
    "initial"
   ]
  },
  {
   "cell_type": "code",
   "execution_count": 16,
   "id": "c76668e3",
   "metadata": {},
   "outputs": [
    {
     "data": {
      "text/plain": [
       "'l'"
      ]
     },
     "execution_count": 16,
     "metadata": {},
     "output_type": "execute_result"
    }
   ],
   "source": [
    "surname = \"Palin\"\n",
    "initial = surname[2]\n",
    "initial"
   ]
  },
  {
   "cell_type": "code",
   "execution_count": 17,
   "id": "787c0593",
   "metadata": {},
   "outputs": [
    {
     "ename": "IndexError",
     "evalue": "string index out of range",
     "output_type": "error",
     "traceback": [
      "\u001b[1;31m---------------------------------------------------------------------------\u001b[0m",
      "\u001b[1;31mIndexError\u001b[0m                                Traceback (most recent call last)",
      "\u001b[1;32m~\\AppData\\Local\\Temp/ipykernel_6404/820682144.py\u001b[0m in \u001b[0;36m<module>\u001b[1;34m\u001b[0m\n\u001b[1;32m----> 1\u001b[1;33m \u001b[0msurname\u001b[0m\u001b[1;33m[\u001b[0m\u001b[1;36m10\u001b[0m\u001b[1;33m]\u001b[0m\u001b[1;33m\u001b[0m\u001b[1;33m\u001b[0m\u001b[0m\n\u001b[0m",
      "\u001b[1;31mIndexError\u001b[0m: string index out of range"
     ]
    }
   ],
   "source": [
    "surname[10]"
   ]
  },
  {
   "cell_type": "code",
   "execution_count": 21,
   "id": "0f1f1671",
   "metadata": {},
   "outputs": [
    {
     "data": {
      "text/plain": [
       "'l'"
      ]
     },
     "execution_count": 21,
     "metadata": {},
     "output_type": "execute_result"
    }
   ],
   "source": [
    "inital=surname[-2]\n",
    "initial "
   ]
  },
  {
   "cell_type": "code",
   "execution_count": 23,
   "id": "1bc4e47c",
   "metadata": {},
   "outputs": [
    {
     "data": {
      "text/plain": [
       "[2, 3, 5, 7]"
      ]
     },
     "execution_count": 23,
     "metadata": {},
     "output_type": "execute_result"
    }
   ],
   "source": [
    "primes=[2,3,5,7,13,1,19,23,29,31,37,41,43,47]\n",
    "number=primes[:4]\n",
    "number\n"
   ]
  },
  {
   "cell_type": "code",
   "execution_count": 36,
   "id": "3522ca48",
   "metadata": {},
   "outputs": [],
   "source": [
    "names=[\"terry\",\"John\",\"Michael\",\"Eric\",\"Terry\",\"Graham\"]\n"
   ]
  },
  {
   "cell_type": "code",
   "execution_count": 38,
   "id": "78c55fd7",
   "metadata": {},
   "outputs": [
    {
     "data": {
      "text/plain": [
       "['Tim',\n",
       " 'Bill',\n",
       " 'Graeme',\n",
       " 'Tim',\n",
       " 'Bill',\n",
       " 'Graeme',\n",
       " 'terry',\n",
       " 'John',\n",
       " 'Michael',\n",
       " 'Eric',\n",
       " 'Terry',\n",
       " 'Graham']"
      ]
     },
     "execution_count": 38,
     "metadata": {},
     "output_type": "execute_result"
    }
   ],
   "source": [
    "names[0:0]=[\"Tim\",\"Bill\",\"Graeme\"]\n",
    "names\n"
   ]
  },
  {
   "cell_type": "code",
   "execution_count": 40,
   "id": "18429a52",
   "metadata": {},
   "outputs": [],
   "source": [
    "names.append(\"Yuisha\")"
   ]
  },
  {
   "cell_type": "code",
   "execution_count": 42,
   "id": "955b78e6",
   "metadata": {},
   "outputs": [
    {
     "data": {
      "text/plain": [
       "['Tim',\n",
       " 'Bill',\n",
       " 'Graeme',\n",
       " 'Tim',\n",
       " 'Bill',\n",
       " 'Graeme',\n",
       " 'terry',\n",
       " 'John',\n",
       " 'Michael',\n",
       " 'Eric',\n",
       " 'Terry',\n",
       " 'Graham',\n",
       " 'Yuisha',\n",
       " 'Yuisha']"
      ]
     },
     "execution_count": 42,
     "metadata": {},
     "output_type": "execute_result"
    }
   ],
   "source": [
    "names\n"
   ]
  },
  {
   "cell_type": "code",
   "execution_count": 51,
   "id": "617bb8dc",
   "metadata": {},
   "outputs": [
    {
     "data": {
      "text/plain": [
       "['Tim',\n",
       " 'Bill',\n",
       " 'Graeme',\n",
       " 'Tim',\n",
       " 'Bill',\n",
       " 'Graeme',\n",
       " 'terry',\n",
       " 'John',\n",
       " 'Michael',\n",
       " 'Eric',\n",
       " 'Terry',\n",
       " 'Graham',\n",
       " 'Yuisha',\n",
       " 'Yuisha',\n",
       " 'Adele',\n",
       " 'Adele',\n",
       " 'Adele',\n",
       " 'Adele',\n",
       " 'Adele']"
      ]
     },
     "execution_count": 51,
     "metadata": {},
     "output_type": "execute_result"
    }
   ],
   "source": [
    "names=names+[\"Adele\"]\n",
    "names"
   ]
  },
  {
   "cell_type": "code",
   "execution_count": 52,
   "id": "e075e3df",
   "metadata": {},
   "outputs": [],
   "source": [
    "nums=[1,2,3]*5"
   ]
  },
  {
   "cell_type": "code",
   "execution_count": 54,
   "id": "f9d327a9",
   "metadata": {},
   "outputs": [
    {
     "data": {
      "text/plain": [
       "[1, 2, 3, 1, 2, 3, 1, 2, 3, 1, 2, 3, 1, 2, 3]"
      ]
     },
     "execution_count": 54,
     "metadata": {},
     "output_type": "execute_result"
    }
   ],
   "source": [
    "nums\n"
   ]
  },
  {
   "cell_type": "code",
   "execution_count": 56,
   "id": "83b97d2d",
   "metadata": {},
   "outputs": [
    {
     "ename": "SyntaxError",
     "evalue": "invalid syntax (Temp/ipykernel_6404/2266353596.py, line 1)",
     "output_type": "error",
     "traceback": [
      "\u001b[1;36m  File \u001b[1;32m\"C:\\Users\\HP\\AppData\\Local\\Temp/ipykernel_6404/2266353596.py\"\u001b[1;36m, line \u001b[1;32m1\u001b[0m\n\u001b[1;33m    comment=\"I would have \"thought\" you knew better!\"\u001b[0m\n\u001b[1;37m                           ^\u001b[0m\n\u001b[1;31mSyntaxError\u001b[0m\u001b[1;31m:\u001b[0m invalid syntax\n"
     ]
    }
   ],
   "source": [
    "comment=\"I would have \"thought\" you knew better!\"\n",
    "comment\n"
   ]
  },
  {
   "cell_type": "code",
   "execution_count": 58,
   "id": "eb859e11",
   "metadata": {},
   "outputs": [
    {
     "name": "stdout",
     "output_type": "stream",
     "text": [
      "THis text spans three lines, and includes both single('),and double quotes(\")\n"
     ]
    }
   ],
   "source": [
    "print(\"THis text spans three lines, and includes both single(\\'),and double quotes(\\\")\")"
   ]
  },
  {
   "cell_type": "code",
   "execution_count": null,
   "id": "7660f13f",
   "metadata": {},
   "outputs": [],
   "source": []
  }
 ],
 "metadata": {
  "kernelspec": {
   "display_name": "Python 3 (ipykernel)",
   "language": "python",
   "name": "python3"
  },
  "language_info": {
   "codemirror_mode": {
    "name": "ipython",
    "version": 3
   },
   "file_extension": ".py",
   "mimetype": "text/x-python",
   "name": "python",
   "nbconvert_exporter": "python",
   "pygments_lexer": "ipython3",
   "version": "3.9.7"
  }
 },
 "nbformat": 4,
 "nbformat_minor": 5
}
